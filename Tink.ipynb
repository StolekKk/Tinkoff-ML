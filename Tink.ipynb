{
 "cells": [
  {
   "cell_type": "code",
   "execution_count": null,
   "id": "d4fba886",
   "metadata": {},
   "outputs": [],
   "source": [
    "import random\n",
    "import pickle\n",
    "import os\n",
    "import re\n",
    "import sys\n",
    "from pathlib import Path\n",
    "import random"
   ]
  },
  {
   "cell_type": "code",
   "execution_count": null,
   "id": "6acb9179",
   "metadata": {},
   "outputs": [],
   "source": [
    "def make_text(filepath):\n",
    "        row = \"\"\n",
    "\n",
    "        with open(filepath, \"r\", encoding='utf-8') as f:\n",
    "            for line in f.readlines():\n",
    "                if line != '\\n':\n",
    "                    row += line\n",
    "        return row\n",
    "\n",
    "def token(row):\n",
    "    row = row.lower()\n",
    "    row = re.sub(r'[^a-z0-9а-яё\\s]', '', row)\n",
    "    row = re.sub(r'\\n', ' ', row)\n",
    "    row = row.split()\n",
    "    return row\n",
    "\n",
    "def fit(dictionary, row, order):\n",
    "    for i in range(0, len(row) - order):\n",
    "        if order == 1: \n",
    "            if row[i] in dictionary:\n",
    "                dictionary[row[i]].append(row[i+1])\n",
    "            else:\n",
    "                dictionary[row[i]] = [row[i+1]]\n",
    "        else:\n",
    "            window = tuple(row[i: i+order])\n",
    "            if window in dictionary:\n",
    "                dictionary[window].append(row[i+order])\n",
    "            else:\n",
    "                dictionary[window] = [row[i+order]]\n"
   ]
  },
  {
   "cell_type": "code",
   "execution_count": null,
   "id": "f4ced47a",
   "metadata": {
    "scrolled": true
   },
   "outputs": [],
   "source": [
    "length = input()\n",
    "data = {}\n",
    "model_path = str(Path.home() / 'Documents/bot/model.pkl')\n",
    "data_path = str(Path.home() / 'Documents/bot/lev.txt')\n",
    "#data = open(data_path, r)\n",
    "i = 1\n",
    "while i <= int(length):\n",
    "    fit(data, token(make_text(data_path)),i)\n",
    "    i+=1\n",
    "with open(model_path, \"w+b\") as f:\n",
    "    pickle.dump(data, f)\n",
    "# По сути тут заканчится train.py"
   ]
  },
  {
   "cell_type": "code",
   "execution_count": null,
   "id": "141daeb0",
   "metadata": {},
   "outputs": [],
   "source": [
    "#А тут начентся generate.py\n",
    "\n",
    "\n",
    "with open(model_path, \"rb\") as f:\n",
    "    data = pickle.load(f)\n",
    "def gen_rand_word():\n",
    "    word = [random.choice(list(filter(lambda x: isinstance(x, str), list(data.keys()))))]\n",
    "    return word\n",
    "def gen_first_word():\n",
    "    if 'я' in data:\n",
    "        seed_word = 'я'\n",
    "        while seed_word == 'я':\n",
    "            seed_word =  gen_rand_word()\n",
    "        return seed_word\n",
    "    return random.choice(data.keys())\n",
    "def gen_sentence(length):\n",
    "    windowl =tuple(('я'))\n",
    "    word = gen_first_word()\n",
    "    sentence = word\n",
    "    i = 0\n",
    "    while i < int(length)-1:\n",
    "        if i <=1:\n",
    "            if sentence[i] in data:\n",
    "                sentence.append(random.choice(data[sentence[i]]))\n",
    "        else:    \n",
    "            if len(windowl) == 2:\n",
    "                print(i)\n",
    "                window = windowl\n",
    "                windowl =tuple(('я'))\n",
    "            else:\n",
    "                window = tuple(word[0: i])\n",
    "            if window in data:\n",
    "                \n",
    "                sentence.append(random.choice(data[window]))\n",
    "            else:\n",
    "                windowl = tuple((word[i-1],word[i]))\n",
    "                sentence.append(random.choice(data[word[i]]))\n",
    "        i += 1\n",
    "    return ' '.join(sentence) + '.'\n",
    "\n",
    "#word = gen_first_word()\n",
    "gen_sentence(length)"
   ]
  },
  {
   "cell_type": "code",
   "execution_count": null,
   "id": "4ef5321e",
   "metadata": {},
   "outputs": [],
   "source": []
  },
  {
   "cell_type": "code",
   "execution_count": null,
   "id": "2d582e5d",
   "metadata": {},
   "outputs": [],
   "source": []
  },
  {
   "cell_type": "code",
   "execution_count": null,
   "id": "5a472441",
   "metadata": {},
   "outputs": [],
   "source": []
  }
 ],
 "metadata": {
  "kernelspec": {
   "display_name": "Python 3 (ipykernel)",
   "language": "python",
   "name": "python3"
  },
  "language_info": {
   "codemirror_mode": {
    "name": "ipython",
    "version": 3
   },
   "file_extension": ".py",
   "mimetype": "text/x-python",
   "name": "python",
   "nbconvert_exporter": "python",
   "pygments_lexer": "ipython3",
   "version": "3.9.12"
  }
 },
 "nbformat": 4,
 "nbformat_minor": 5
}
